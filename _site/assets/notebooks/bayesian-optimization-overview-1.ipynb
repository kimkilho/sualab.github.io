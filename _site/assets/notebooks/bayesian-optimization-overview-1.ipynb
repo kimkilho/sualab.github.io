{
 "cells": [
  {
   "cell_type": "code",
   "execution_count": null,
   "metadata": {},
   "outputs": [],
   "source": [
    "import os.path as osp\n",
    "from bayes_opt import BayesianOptimization\n",
    "from bayes_opt import UtilityFunction\n",
    "import numpy as np\n",
    "import matplotlib.pyplot as plt\n",
    "from matplotlib import gridspec\n",
    "%matplotlib inline"
   ]
  },
  {
   "cell_type": "code",
   "execution_count": null,
   "metadata": {},
   "outputs": [],
   "source": [
    "def target(x):\n",
    "    return np.exp(-(x-3)**2) + np.exp(-(3*x-2)**2) + 1/(x**2+1)"
   ]
  },
  {
   "cell_type": "code",
   "execution_count": null,
   "metadata": {},
   "outputs": [],
   "source": [
    "x = np.linspace(-2, 6, 10000).reshape(-1, 1)\n",
    "y = target(x)\n",
    "plt.plot(x, y);"
   ]
  },
  {
   "cell_type": "code",
   "execution_count": null,
   "metadata": {},
   "outputs": [],
   "source": [
    "optimizer = BayesianOptimization(target, {'x': (-2, 6)}, random_state=1)"
   ]
  },
  {
   "cell_type": "code",
   "execution_count": null,
   "metadata": {},
   "outputs": [],
   "source": [
    "optimizer.maximize(init_points=3, n_iter=0, acq='ei', kappa=0, xi=0.01)"
   ]
  },
  {
   "cell_type": "code",
   "execution_count": null,
   "metadata": {},
   "outputs": [],
   "source": [
    "def posterior(optimizer, x_obs, y_obs, grid):\n",
    "    optimizer._gp.fit(x_obs, y_obs)\n",
    "    \n",
    "    mu, sigma = optimizer._gp.predict(grid, return_std=True)\n",
    "    return mu, sigma"
   ]
  },
  {
   "cell_type": "code",
   "execution_count": null,
   "metadata": {},
   "outputs": [],
   "source": [
    "def plot_target(x, y):\n",
    "    fig = plt.figure(figsize=(16, 10))\n",
    "    steps = len(optimizer.space)\n",
    "    \n",
    "    gs = gridspec.GridSpec(2, 1, height_ratios=[3, 1]) \n",
    "    axis = plt.subplot(gs[0])\n",
    "    acq = plt.subplot(gs[1])\n",
    "    \n",
    "    axis.plot(x, y, linewidth=3, label='Objective Function')\n",
    "    \n",
    "    axis.set_xlim((-2.1, 6.1))\n",
    "    axis.set_ylim((-0.6, 2.2))\n",
    "    axis.set_ylabel('f(x)', fontdict={'size': 20})\n",
    "    axis.set_yticks(np.arange(5)*0.5)\n",
    "    axis.set_yticklabels(np.arange(5)*0.25, fontdict={'size': 15})\n",
    "    axis.set_xlabel('x (learning rate)', fontdict={'size': 20})\n",
    "    axis.set_xticks(np.arange(-2, 7))\n",
    "    axis.set_xticklabels(np.arange(1, 10)*0.01, fontdict={'size': 15})\n",
    "    \n",
    "    acq.set_ylim((None, None))\n",
    "    acq.set_yticks([])\n",
    "    acq.set_yticklabels(np.arange(4)*2, fontdict={'size': 15})\n",
    "    acq.set_ylabel('EI(x)', fontdict={'size': 20})\n",
    "    acq.set_xlim((-2.1, 6.1))\n",
    "    acq.set_xlabel('x (learning rate)', fontdict={'size': 20})\n",
    "    acq.set_xticks(np.arange(-2, 7))\n",
    "    acq.set_xticklabels(np.arange(1, 10)*0.01, fontdict={'size': 15})\n",
    "    \n",
    "    axis.legend(loc=1, borderaxespad=0., fontsize='large')"
   ]
  },
  {
   "cell_type": "code",
   "execution_count": null,
   "metadata": {},
   "outputs": [],
   "source": [
    "def plot_gp(optimizer, x, y):\n",
    "    fig = plt.figure(figsize=(16, 10))\n",
    "    steps = len(optimizer.space)\n",
    "    \n",
    "    gs = gridspec.GridSpec(2, 1, height_ratios=[3, 1]) \n",
    "    axis = plt.subplot(gs[0])\n",
    "    acq = plt.subplot(gs[1])\n",
    "    \n",
    "    x_obs = np.array([[res[\"params\"][\"x\"]] for res in optimizer.res])\n",
    "    y_obs = np.array([res[\"target\"] for res in optimizer.res])\n",
    "    \n",
    "    mu, sigma = posterior(optimizer, x_obs, y_obs, x)\n",
    "    axis.plot(x, y, linewidth=3, label='Objective Function')\n",
    "    axis.plot(x_obs.flatten(), y_obs, 'D', markersize=8, label=u'Observations', color='r')\n",
    "    axis.plot(x, mu, '--', linewidth=2, color='k', label='Prediction')\n",
    "\n",
    "    axis.fill(np.concatenate([x, x[::-1]]), \n",
    "              np.concatenate([mu - sigma, (mu + sigma)[::-1]]),\n",
    "        alpha=.6, fc='c', ec='None', label='Uncertain area')\n",
    "    \n",
    "    axis.set_xlim((-2.1, 6.1))\n",
    "    axis.set_ylim((-0.6, 2.2))\n",
    "    axis.set_ylabel('f(x)', fontdict={'size':20})\n",
    "    axis.set_yticks(np.arange(5)*0.5)\n",
    "    axis.set_yticklabels(np.arange(5)*0.25, fontdict={'size': 15})\n",
    "    axis.set_xlabel('x (learning rate)', fontdict={'size':20})\n",
    "    axis.set_xticks(np.arange(-2, 7))\n",
    "    axis.set_xticklabels(np.arange(1, 10)*0.01, fontdict={'size': 15})\n",
    "    \n",
    "    utility_function = UtilityFunction(kind=\"ei\", kappa=0, xi=0.01)\n",
    "    utility = utility_function.utility(x, optimizer._gp, optimizer._space.target.max())\n",
    "    acq.plot(x, utility, label='Acquisition Function', color='purple')\n",
    "    acq.plot(x[np.argmax(utility)], np.max(utility), '*', markersize=15, \n",
    "             label=u'Next Candidate', markerfacecolor='gold', markeredgecolor='k', markeredgewidth=1)\n",
    "    acq.set_ylim((0, np.max(utility)*1.1))\n",
    "    acq.set_yticks([])\n",
    "    acq.set_ylabel('EI(x)', fontdict={'size': 20})\n",
    "    acq.set_xlim((-2.1, 6.1))\n",
    "    acq.set_xlabel('x (learning rate)', fontdict={'size': 20})\n",
    "    acq.set_xticks(np.arange(-2, 7))\n",
    "    acq.set_xticklabels(np.arange(1, 10)*0.01, fontdict={'size': 15})\n",
    "    \n",
    "    axis.legend(loc=1, borderaxespad=0., fontsize='large')\n",
    "    acq.legend(loc=4, borderaxespad=0., fontsize='large')"
   ]
  },
  {
   "cell_type": "code",
   "execution_count": null,
   "metadata": {},
   "outputs": [],
   "source": [
    "dst_dir = '../images/bayesian-optimization-overview-1/bayesian-optimization-process'"
   ]
  },
  {
   "cell_type": "code",
   "execution_count": null,
   "metadata": {},
   "outputs": [],
   "source": [
    "plot_target(x, y)\n",
    "plt.savefig(osp.join(dst_dir, 'bayesian-optimization-process-0.png'))"
   ]
  },
  {
   "cell_type": "code",
   "execution_count": null,
   "metadata": {},
   "outputs": [],
   "source": [
    "plot_gp(optimizer, x, y)\n",
    "plt.savefig(osp.join(dst_dir, 'bayesian-optimization-process-1-3.png'))"
   ]
  },
  {
   "cell_type": "code",
   "execution_count": null,
   "metadata": {
    "scrolled": false
   },
   "outputs": [],
   "source": [
    "for rep in range(3, 11):\n",
    "    optimizer.maximize(init_points=0, n_iter=1, acq='ei', kappa=0, xi=0.01)\n",
    "    plot_gp(optimizer, x, y)\n",
    "    plt.savefig(osp.join(dst_dir, 'bayesian-optimization-process-{}.png'.format(rep+1)))\n",
    "    plt.close()"
   ]
  }
 ],
 "metadata": {
  "kernelspec": {
   "display_name": "Python 3",
   "language": "python",
   "name": "python3"
  },
  "language_info": {
   "codemirror_mode": {
    "name": "ipython",
    "version": 3
   },
   "file_extension": ".py",
   "mimetype": "text/x-python",
   "name": "python",
   "nbconvert_exporter": "python",
   "pygments_lexer": "ipython3",
   "version": "3.5.5"
  }
 },
 "nbformat": 4,
 "nbformat_minor": 2
}
