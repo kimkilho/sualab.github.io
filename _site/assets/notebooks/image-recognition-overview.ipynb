{
 "cells": [
  {
   "cell_type": "code",
   "execution_count": 1,
   "metadata": {
    "collapsed": true
   },
   "outputs": [],
   "source": [
    "import numpy as np\n",
    "import matplotlib.pyplot as plt\n",
    "\n",
    "%matplotlib inline\n",
    "%load_ext autoreload\n",
    "%autoreload 2"
   ]
  },
  {
   "cell_type": "code",
   "execution_count": 2,
   "metadata": {
    "collapsed": true
   },
   "outputs": [],
   "source": [
    "scores = np.array([2.72, 3.26, 0.88, 0.76, 3.42, \n",
    "                   2.87, 4.50, 1.92, 2.21, -1.35], dtype=np.float)\n",
    "y_true = np.array([1, 0, 0, 1, 1, 1, 1, 0, 0, 0], dtype=np.int)\n",
    "threshs = np.linspace(-2.0, 6.0, num=1000)"
   ]
  },
  {
   "cell_type": "code",
   "execution_count": 3,
   "metadata": {
    "collapsed": true
   },
   "outputs": [],
   "source": [
    "precisions = []\n",
    "recalls = []\n",
    "for thr in threshs:\n",
    "    y_pred = (scores > thr).astype(np.int)\n",
    "    if np.sum(y_pred == 1) == 0:\n",
    "        prec = np.nan\n",
    "    else:\n",
    "        prec = np.sum((y_pred == y_true) & (y_pred == 1)) / np.sum(y_pred == 1)\n",
    "    precisions.append(prec)\n",
    "    rec = np.sum((y_pred == y_true) & (y_pred == 1)) / np.sum(y_true == 1)\n",
    "    recalls.append(rec)"
   ]
  },
  {
   "cell_type": "markdown",
   "metadata": {},
   "source": [
    "### 정밀도,재현율-문턱값 플롯"
   ]
  },
  {
   "cell_type": "code",
   "execution_count": 4,
   "metadata": {},
   "outputs": [
    {
     "data": {
      "image/png": "[encoded data removed]",
      "text/plain": [
       "<matplotlib.figure.Figure at 0x7fb9cfcfe588>"
      ]
     },
     "metadata": {},
     "output_type": "display_data"
    }
   ],
   "source": [
    "fig, ax = plt.subplots(1, 1, figsize=(6, 4))\n",
    "ax.plot(threshs, precisions, color='r', label='Precision')\n",
    "ax.plot(threshs, recalls, color='b', label='Recall')\n",
    "ax.set_xlabel('Threshold')\n",
    "ax.set_ylabel('Precision, Recall')\n",
    "ax.legend()\n",
    "\n",
    "plt.savefig('precision-recall-to-threshold-plot.svg')"
   ]
  },
  {
   "cell_type": "markdown",
   "metadata": {},
   "source": [
    "### 정밀도-재현율 곡선 플롯"
   ]
  },
  {
   "cell_type": "code",
   "execution_count": 5,
   "metadata": {},
   "outputs": [
    {
     "data": {
      "image/png": "[encoded data removed]",
      "text/plain": [
       "<matplotlib.figure.Figure at 0x7fb9cffc9a90>"
      ]
     },
     "metadata": {},
     "output_type": "display_data"
    }
   ],
   "source": [
    "from sklearn.metrics import precision_recall_curve\n",
    "precision, recall, _ = precision_recall_curve(y_true, scores)\n",
    "\n",
    "fig, ax = plt.subplots(1, 1, figsize=(6, 4))\n",
    "ax.step(recall, precision, color='g', marker='.', where='post')\n",
    "\n",
    "ax.set_xlabel('Recall')\n",
    "ax.set_ylabel('Precision')\n",
    "ax.set_xlim([-0.05, 1.05])\n",
    "ax.set_ylim([-0.05, 1.05])\n",
    "\n",
    "plt.savefig('precision-recall-curve-plot.svg')"
   ]
  }
 ],
 "metadata": {
  "kernelspec": {
   "display_name": "Python 3",
   "language": "python",
   "name": "python3"
  },
  "language_info": {
   "codemirror_mode": {
    "name": "ipython",
    "version": 3
   },
   "file_extension": ".py",
   "mimetype": "text/x-python",
   "name": "python",
   "nbconvert_exporter": "python",
   "pygments_lexer": "ipython3",
   "version": "3.5.3"
  }
 },
 "nbformat": 4,
 "nbformat_minor": 2
}
